{
 "cells": [
  {
   "cell_type": "code",
   "execution_count": 1,
   "metadata": {},
   "outputs": [],
   "source": [
    "from selenium import webdriver\n",
    "\n",
    "options = webdriver.ChromeOptions()\n",
    "options.add_argument('--ignore-certificate-errors')\n",
    "options.add_argument('--incognito')\n",
    "options.add_argument('--headless')\n",
    "driver = webdriver.Chrome(\"/home/sandeepa/Downloads/chromedriver\", options=options)\n"
   ]
  },
  {
   "cell_type": "code",
   "execution_count": 2,
   "metadata": {},
   "outputs": [],
   "source": [
    "\n",
    "import time\n",
    "\n",
    "driver.get(\"https://www.tripadvisor.com/Airline_Review-d8729157-Reviews-Spirit-Airlines#REVIEWS\")\n",
    "more_buttons = driver.find_elements_by_class_name(\"_36B4Vw6t\")\n",
    "for x in range(len(more_buttons)):\n",
    "  if more_buttons[x].is_displayed():\n",
    "      driver.execute_script(\"arguments[0].click();\", more_buttons[x])\n",
    "      time.sleep(1)\n",
    "page_source = driver.page_source\n",
    "# print(page_source)\n"
   ]
  },
  {
   "cell_type": "code",
   "execution_count": 3,
   "metadata": {},
   "outputs": [
    {
     "name": "stdout",
     "output_type": "stream",
     "text": [
      "Fantastic Flight\n",
      "I’m a very low-key traveller and I fly often. I haven’t flown Spirit in several years, but I was pleasantly surprised. I found the staff extremely helpful and friendly.\n",
      "----------------------------------------------------------------------------------------------------\n",
      "December flight\n",
      "I flew Spirit roundtrip in December 2019. The plane seemed newer and it was very clean. bathrooms were also clean. Staff is very nice and funny.\n",
      "----------------------------------------------------------------------------------------------------\n",
      "Spirit Is the worst airline that ever existed\n",
      "My flight to Detroit was supposed to leave at 4:59pm. We get on the plane, first we were waiting for a truck to defrost the plane, and then we were waiting on plane traffic and then all of sudden, there’s something wrong with the engine and we have to exit the plane. People who had connections where left to fend for themselves and our flight got cancelled with the next flight potentially being available a week later!!!!! Never again!!!\n",
      "----------------------------------------------------------------------------------------------------\n",
      "Not too shabby...\n",
      "We had a fine flight, the service was fine, too. One thing to mention: We were at the max weight with our luggage when leaving New Orleans & the attendant at the Spirit counter could not have been nicer or more helpful. She was sweet, yet professional and got us on our way without any problems.Flight was on time, which is more than I can say for the United flight to New Orleans. As a matter of fact, Spirit was a few hundred dollars less! One difference is the weight limit for Spirit is 40 lbs., United is 50 lbs.\n",
      "----------------------------------------------------------------------------------------------------\n",
      "Quick cheap travel to Las Vegas from LAX\n",
      "Sudden trip for our family from LAX to Las Vegas, Nevada   ....,  Spirit Airlines did the job quick easy on time and at a very reasonable price.  We took off and went up  leveled off and then descended down  It was a quick trip. I have traveled on longer flights with Spirit and all did not turn out well 3 out of four times but sometimes for the money and cost of the tickets ... it’s worth it.\n",
      "----------------------------------------------------------------------------------------------------\n"
     ]
    }
   ],
   "source": [
    "\n",
    "from bs4 import BeautifulSoup\n",
    "\n",
    "soup = BeautifulSoup(page_source, 'html.parser')\n",
    "reviews = []\n",
    "reviews_selector = soup.find_all('div',class_=\"location-review-review-list-parts-SingleReview__mainCol--1hApa\")\n",
    "for review_selector in reviews_selector:\n",
    "    heading=review_selector.find('a',class_=\"location-review-review-list-parts-ReviewTitle__reviewTitleText--2tFRT\")\n",
    "    print(heading.text)\n",
    "    review=review_selector.find('q',class_=\"location-review-review-list-parts-ExpandableReview__reviewText--gOmRC\").text\n",
    "    print(review)\n",
    "    print('-'*100)\n",
    "\n",
    "\n"
   ]
  }
 ],
 "metadata": {
  "kernelspec": {
   "display_name": "Python 3",
   "language": "python",
   "name": "python3"
  },
  "language_info": {
   "codemirror_mode": {
    "name": "ipython",
    "version": 3
   },
   "file_extension": ".py",
   "mimetype": "text/x-python",
   "name": "python",
   "nbconvert_exporter": "python",
   "pygments_lexer": "ipython3",
   "version": "3.6.8"
  }
 },
 "nbformat": 4,
 "nbformat_minor": 2
}
